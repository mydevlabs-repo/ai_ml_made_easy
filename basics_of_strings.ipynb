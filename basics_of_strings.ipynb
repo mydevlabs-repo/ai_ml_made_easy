{
 "cells": [
  {
   "cell_type": "markdown",
   "id": "01bbfb63-5ec1-426b-866e-c9b872df3491",
   "metadata": {},
   "source": [
    "## <center>Basic of Python Programming\n",
    "</center>"
   ]
  },
  {
   "cell_type": "markdown",
   "id": "ba412a5b-49dd-4963-bd5f-df7a6c1cafb4",
   "metadata": {},
   "source": [
    "<h3>Strings in Python</h3> \n",
    "Like any other programming languages strings in python is a sequence of characters which are utilised to form meaningful words and sentences. Each character in a string is indexed and can be accessed by their position. See the example shown below for more clarity.\n",
    "<p style=\"color:red;\">Note: indexing starts from 0.</p>\n"
   ]
  },
  {
   "cell_type": "code",
   "execution_count": 2,
   "id": "9c490f2c-81d6-4e6e-bfda-3c56c69832a2",
   "metadata": {
    "tags": []
   },
   "outputs": [
    {
     "data": {
      "text/plain": [
       "'Jai Shree Ram'"
      ]
     },
     "execution_count": 2,
     "metadata": {},
     "output_type": "execute_result"
    }
   ],
   "source": [
    "str = 'Jai Shree Ram'\n",
    "str"
   ]
  },
  {
   "cell_type": "code",
   "execution_count": 3,
   "id": "18c4e6a1-537c-47d0-9c42-d7867fff043e",
   "metadata": {
    "tags": []
   },
   "outputs": [
    {
     "data": {
      "text/plain": [
       "'J'"
      ]
     },
     "execution_count": 3,
     "metadata": {},
     "output_type": "execute_result"
    }
   ],
   "source": [
    "str[0]"
   ]
  },
  {
   "cell_type": "markdown",
   "id": "47e8d3e6-4cd9-438c-b6f2-d76e767bd88d",
   "metadata": {},
   "source": [
    "<h4> Negative Indexing in Strings</h4>"
   ]
  },
  {
   "cell_type": "code",
   "execution_count": 4,
   "id": "a0a8f766-a50f-490c-9d2d-b26a4527ad96",
   "metadata": {
    "tags": []
   },
   "outputs": [
    {
     "data": {
      "text/plain": [
       "13"
      ]
     },
     "execution_count": 4,
     "metadata": {},
     "output_type": "execute_result"
    }
   ],
   "source": [
    "len(str)"
   ]
  },
  {
   "cell_type": "code",
   "execution_count": 6,
   "id": "ef067c32-1b64-4529-baa5-7ce7986c92e1",
   "metadata": {
    "tags": []
   },
   "outputs": [
    {
     "data": {
      "text/plain": [
       "'m'"
      ]
     },
     "execution_count": 6,
     "metadata": {},
     "output_type": "execute_result"
    }
   ],
   "source": [
    "str[len(str)-1] # this is the main concept of negative indexing"
   ]
  },
  {
   "cell_type": "code",
   "execution_count": 7,
   "id": "6eb0efcc-4ace-42af-93c0-670f786ccdde",
   "metadata": {
    "tags": []
   },
   "outputs": [
    {
     "data": {
      "text/plain": [
       "'m'"
      ]
     },
     "execution_count": 7,
     "metadata": {},
     "output_type": "execute_result"
    }
   ],
   "source": [
    "str[-1] #the above statement can be written like this"
   ]
  },
  {
   "cell_type": "markdown",
   "id": "4fbd7086-7948-4e7d-99b8-92be97370fe1",
   "metadata": {},
   "source": [
    "<h4>Slicing: str[start:stop:stepsize]</h4>"
   ]
  },
  {
   "cell_type": "code",
   "execution_count": 9,
   "id": "9f72133f-8dac-46c3-95e5-86d217e35f47",
   "metadata": {
    "tags": []
   },
   "outputs": [
    {
     "data": {
      "text/plain": [
       "'Jai'"
      ]
     },
     "execution_count": 9,
     "metadata": {},
     "output_type": "execute_result"
    }
   ],
   "source": [
    "str[0:3]"
   ]
  },
  {
   "cell_type": "code",
   "execution_count": 17,
   "id": "26ebbdf1-9885-41af-bc5e-6566e70f8e54",
   "metadata": {
    "tags": []
   },
   "outputs": [
    {
     "data": {
      "text/plain": [
       "'Ram'"
      ]
     },
     "execution_count": 17,
     "metadata": {},
     "output_type": "execute_result"
    }
   ],
   "source": [
    "str[-3:]"
   ]
  },
  {
   "cell_type": "markdown",
   "id": "28d73ec9-0b17-4588-afbc-e52bf4d91a8a",
   "metadata": {
    "tags": []
   },
   "source": [
    "<h4>Stride</h4>"
   ]
  },
  {
   "cell_type": "code",
   "execution_count": 19,
   "id": "8174ac57-bc09-43ce-90f6-99f437e777cf",
   "metadata": {
    "tags": []
   },
   "outputs": [
    {
     "data": {
      "text/plain": [
       "'JiSreRm'"
      ]
     },
     "execution_count": 19,
     "metadata": {},
     "output_type": "execute_result"
    }
   ],
   "source": [
    "str[::2] #to get characters positioned at even places"
   ]
  },
  {
   "cell_type": "code",
   "execution_count": 22,
   "id": "d551db85-878c-4d67-a63f-7e3fc93058bf",
   "metadata": {
    "tags": []
   },
   "outputs": [
    {
     "data": {
      "text/plain": [
       "'a he a'"
      ]
     },
     "execution_count": 22,
     "metadata": {},
     "output_type": "execute_result"
    }
   ],
   "source": [
    "str[1::2] #to get characters positioned at odd places"
   ]
  },
  {
   "cell_type": "code",
   "execution_count": 36,
   "id": "835bc7b8-6611-4111-998e-f6814536a858",
   "metadata": {
    "tags": []
   },
   "outputs": [
    {
     "name": "stdout",
     "output_type": "stream",
     "text": [
      "Jai Shree Ram! \n",
      "Aap sabhi ko meri taraf se hare krishna\n",
      "Jai\tShree\tRam\n",
      "Print me raw\\nby appending r in front\n"
     ]
    }
   ],
   "source": [
    "print('Jai Shree Ram! \\nAap sabhi ko meri taraf se hare krishna') #escape sequence for line change\n",
    "print(\"Jai\\tShree\\tRam\" ) #escape sequence for tabular spaces\n",
    "print(r\"Print me raw\\nby appending r in front\")"
   ]
  },
  {
   "cell_type": "markdown",
   "id": "9081f285-04a2-4ade-8db8-79f6f8763831",
   "metadata": {
    "tags": []
   },
   "source": [
    "<h4>String Operations</h4>"
   ]
  },
  {
   "cell_type": "code",
   "execution_count": 38,
   "id": "e6e1e60c-0b95-4e30-983c-3cf38b5066c2",
   "metadata": {
    "tags": []
   },
   "outputs": [
    {
     "data": {
      "text/plain": [
       "'Jai Shree Ram'"
      ]
     },
     "execution_count": 38,
     "metadata": {},
     "output_type": "execute_result"
    }
   ],
   "source": [
    "#Finding position of a substring\n",
    "#S.find(sub[, start[, end]]) -> int\n",
    "str"
   ]
  },
  {
   "cell_type": "code",
   "execution_count": 39,
   "id": "61ad2a17-fd51-4394-a386-0654d2ed45f1",
   "metadata": {
    "tags": []
   },
   "outputs": [
    {
     "data": {
      "text/plain": [
       "10"
      ]
     },
     "execution_count": 39,
     "metadata": {},
     "output_type": "execute_result"
    }
   ],
   "source": [
    "str.find('Ram')"
   ]
  },
  {
   "cell_type": "code",
   "execution_count": 40,
   "id": "8a5f91d3-b79c-4077-834c-7866e9d228b7",
   "metadata": {
    "tags": []
   },
   "outputs": [
    {
     "data": {
      "text/plain": [
       "-1"
      ]
     },
     "execution_count": 40,
     "metadata": {},
     "output_type": "execute_result"
    }
   ],
   "source": [
    "str.find('Kam') #returns -1 if not found"
   ]
  },
  {
   "cell_type": "code",
   "execution_count": 43,
   "id": "9a727ffe-ea57-4a87-9e7d-7ed751a3a43b",
   "metadata": {
    "tags": []
   },
   "outputs": [
    {
     "data": {
      "text/plain": [
       "6"
      ]
     },
     "execution_count": 43,
     "metadata": {},
     "output_type": "execute_result"
    }
   ],
   "source": [
    "'hare krishna'.find('r',3) #second argument gives the start position of search"
   ]
  },
  {
   "cell_type": "code",
   "execution_count": 51,
   "id": "fbc94873-fb5c-4c45-9285-b3d4ec7a5946",
   "metadata": {
    "tags": []
   },
   "outputs": [
    {
     "name": "stdout",
     "output_type": "stream",
     "text": [
      "['hare krishna hare ram']\n",
      "['hare', 'krishna hare ram']\n",
      "['hare', 'krishna', 'hare', 'ram']\n"
     ]
    }
   ],
   "source": [
    "#splitting a string str.split(sep=None, maxsplit=-1)\n",
    "print('hare krishna hare ram'.split(' ',maxsplit=0)) #no split\n",
    "print('hare krishna hare ram'.split(' ',maxsplit=1)) #Only 1 split from left\n",
    "print('hare krishna hare ram'.split(' ',maxsplit=-1)) #no limit"
   ]
  },
  {
   "cell_type": "markdown",
   "id": "53c57ef7-8cf7-4259-852f-362824e8d446",
   "metadata": {
    "tags": []
   },
   "source": [
    "# RegEx"
   ]
  },
  {
   "cell_type": "markdown",
   "id": "233a06f8-f2d7-48a2-8e84-6d6eb6ae04fc",
   "metadata": {},
   "source": [
    "In Python, RegEx (short for Regular Expression) is a tool for matching and handling strings. \n",
    "\n",
    "This RegEx module provides several functions for working with regular expressions, including <code>search, split, findall,</code> and <code>sub</code>. \n",
    "\n",
    "Python provides a built-in module called <code>re</code>, which allows you to work with regular expressions. \n",
    "First, import the <code>re</code> module\n"
   ]
  },
  {
   "cell_type": "code",
   "execution_count": 53,
   "id": "351a9720-d94a-4223-8d0f-1c58eb2a22d8",
   "metadata": {
    "tags": []
   },
   "outputs": [],
   "source": [
    "import re"
   ]
  },
  {
   "cell_type": "markdown",
   "id": "ffe7196f-e187-4ae6-bcfe-940b685fc5e0",
   "metadata": {},
   "source": [
    "The search() function searches for specified patterns within a string. Here is an example that explains how to use the search() function to search for the word \"Jackson\" in the string \"Michael Jackson is the best\".\n"
   ]
  },
  {
   "cell_type": "markdown",
   "id": "3df0c448-75f9-45da-99ab-f5e760b586f9",
   "metadata": {},
   "source": [
    "Regular expressions (RegEx) are patterns used to match and manipulate strings of text. There are several special sequences in RegEx that can be used to match specific characters or patterns.\n",
    "\n",
    "| Special Sequence | Meaning                 | \tExample             |\n",
    "| -----------  | ----------------------- | ----------------------|\n",
    "| \\d|Matches any digit character (0-9)|\"123\" matches \"\\d\\d\\d\"|\n",
    "|\\D|Matches any non-digit character|\"hello\" matches \"\\D\\D\\D\\D\\D\"|\n",
    "|\\w|Matches any word character (a-z, A-Z, 0-9, and _)|\"hello_world\" matches \"\\w\\w\\w\\w\\w\\w\\w\\w\\w\"|\n",
    "|\\W|Matches any non-word character|\t\"@#$%\" matches \"\\W\\W\\W\\W\"|\n",
    "|\\s|Matches any whitespace character (space, tab, newline, etc.)|\"hello world\" matches \"\\w\\s\\w\\w\\w\\w\\w\"|\n",
    "|\\S|Matches any non-whitespace character|\"hello_world\" matches \"\\S\\S\\S\\S\\S\\S\\S\\S\\S\"|\n",
    "|\\b|Matches the boundary between a word character and a non-word character|\"cat\" matches \"\\bcat\\b\" in \"The cat sat on the mat\"|\n",
    "|\\B|Matches any position that is not a word boundary|\"cat\" matches \"\\Bcat\\B\" in \"category\" but not in \"The cat sat on the mat\"|\n"
   ]
  },
  {
   "cell_type": "code",
   "execution_count": 56,
   "id": "4857aad1-bf98-452b-833b-1bce77758799",
   "metadata": {
    "tags": []
   },
   "outputs": [],
   "source": [
    "str = 'Jai Shree Ram'\n",
    "pattern = r'Ram'\n",
    "result = re.search(pattern,str)"
   ]
  },
  {
   "cell_type": "code",
   "execution_count": 57,
   "id": "0177d1dd-4493-41f2-85c2-e69a641cbfb1",
   "metadata": {
    "tags": []
   },
   "outputs": [
    {
     "name": "stdout",
     "output_type": "stream",
     "text": [
      "Ram Ji Resides in every heart\n"
     ]
    }
   ],
   "source": [
    "if result:\n",
    "    print('Ram Ji Resides in every heart')\n",
    "else:\n",
    "    print('Ram Ram Ji') "
   ]
  },
  {
   "cell_type": "code",
   "execution_count": 62,
   "id": "6b698168-cdc5-4bd2-a560-1322f8bf62e0",
   "metadata": {
    "tags": []
   },
   "outputs": [
    {
     "name": "stdout",
     "output_type": "stream",
     "text": [
      "<re.Match object; span=(3, 4), match=' '>\n",
      "None\n"
     ]
    }
   ],
   "source": [
    "#match whitespace character\n",
    "pat1 = r'\\s' \n",
    "pat2 = r'\\s\\s'\n",
    "print(re.search(pat1,str))\n",
    "print(re.search(pat2,str)) #returns None if not found"
   ]
  },
  {
   "cell_type": "code",
   "execution_count": 63,
   "id": "a231f66b-b671-4043-b501-d142214fb0c7",
   "metadata": {
    "tags": []
   },
   "outputs": [
    {
     "name": "stdout",
     "output_type": "stream",
     "text": [
      "Matches: [',', ' ', '!']\n"
     ]
    }
   ],
   "source": [
    "pattern = r\"\\W\"  # Matches any non-word character\n",
    "text = \"Hello, world!\"\n",
    "matches = re.findall(pattern, text)\n",
    "\n",
    "print(\"Matches:\", matches)"
   ]
  },
  {
   "cell_type": "code",
   "execution_count": 64,
   "id": "c52262c1-294d-4873-b5d7-c76017d4373f",
   "metadata": {
    "tags": []
   },
   "outputs": [
    {
     "name": "stdout",
     "output_type": "stream",
     "text": [
      "['as', 'as']\n"
     ]
    }
   ],
   "source": [
    "s2 = \"Michael Jackson was a singer and known as the 'King of Pop'\"\n",
    "\n",
    "\n",
    "# Use the findall() function to find all occurrences of the \"as\" in the string\n",
    "result = re.findall(\"as\", s2)\n",
    "\n",
    "# Print out the list of matched words\n",
    "print(result)\n"
   ]
  },
  {
   "cell_type": "code",
   "execution_count": 65,
   "id": "2b31cf94-b107-414b-9798-019b563b8f76",
   "metadata": {
    "tags": []
   },
   "outputs": [
    {
     "name": "stdout",
     "output_type": "stream",
     "text": [
      "['Michael', 'Jackson', 'was', 'a', 'singer', 'and', 'known', 'as', 'the', \"'King\", 'of', \"Pop'\"]\n"
     ]
    }
   ],
   "source": [
    "# Use the split function to split the string by the \"\\s\"\n",
    "split_array = re.split(\"\\s\", s2)\n",
    "\n",
    "# The split_array contains all the substrings, split by whitespace characters\n",
    "print(split_array) "
   ]
  },
  {
   "cell_type": "code",
   "execution_count": 66,
   "id": "1505d7ec-4cc4-4e60-8200-2f4e9b387d82",
   "metadata": {
    "tags": []
   },
   "outputs": [
    {
     "name": "stdout",
     "output_type": "stream",
     "text": [
      "Michael Jackson was a singer and known as the 'legend'\n"
     ]
    }
   ],
   "source": [
    "# Define the regular expression pattern to search for\n",
    "pattern = r\"King of Pop\"\n",
    "\n",
    "# Define the replacement string\n",
    "replacement = \"legend\"\n",
    "\n",
    "# Use the sub function to replace the pattern with the replacement string\n",
    "new_string = re.sub(pattern, replacement, s2, flags=re.IGNORECASE)\n",
    "\n",
    "# The new_string contains the original string with the pattern replaced by the replacement string\n",
    "print(new_string) "
   ]
  },
  {
   "cell_type": "code",
   "execution_count": null,
   "id": "dd9b040f-b75b-406b-bebe-0d4127643eef",
   "metadata": {},
   "outputs": [],
   "source": []
  }
 ],
 "metadata": {
  "kernelspec": {
   "display_name": "Python 3 (ipykernel)",
   "language": "python",
   "name": "python3"
  },
  "language_info": {
   "codemirror_mode": {
    "name": "ipython",
    "version": 3
   },
   "file_extension": ".py",
   "mimetype": "text/x-python",
   "name": "python",
   "nbconvert_exporter": "python",
   "pygments_lexer": "ipython3",
   "version": "3.11.3"
  }
 },
 "nbformat": 4,
 "nbformat_minor": 5
}
